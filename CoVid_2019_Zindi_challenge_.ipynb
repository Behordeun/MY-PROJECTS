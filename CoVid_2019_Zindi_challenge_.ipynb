{
  "nbformat": 4,
  "nbformat_minor": 0,
  "metadata": {
    "kernelspec": {
      "name": "python3",
      "display_name": "Python 3"
    },
    "language_info": {
      "codemirror_mode": {
        "name": "ipython",
        "version": 3
      },
      "file_extension": ".py",
      "mimetype": "text/x-python",
      "name": "python",
      "nbconvert_exporter": "python",
      "pygments_lexer": "ipython3",
      "version": "3.6.6"
    },
    "colab": {
      "name": "CoVid 2019- Zindi challenge .ipynb",
      "provenance": [],
      "collapsed_sections": [],
      "include_colab_link": true
    }
  },
  "cells": [
    {
      "cell_type": "markdown",
      "metadata": {
        "id": "view-in-github",
        "colab_type": "text"
      },
      "source": [
        "<a href=\"https://colab.research.google.com/github/Behordeun/MY-PROJECTS/blob/master/CoVid_2019_Zindi_challenge_.ipynb\" target=\"_parent\"><img src=\"https://colab.research.google.com/assets/colab-badge.svg\" alt=\"Open In Colab\"/></a>"
      ]
    },
    {
      "cell_type": "markdown",
      "metadata": {
        "id": "sqhNX0JeN_4U",
        "colab_type": "text"
      },
      "source": [
        "##### 1. We are importing WARNINGS class to suppress any warning"
      ]
    },
    {
      "cell_type": "code",
      "metadata": {
        "id": "liU2bPSkN_4n",
        "colab_type": "code",
        "colab": {}
      },
      "source": [
        "import warnings \n",
        "warnings.filterwarnings('ignore')"
      ],
      "execution_count": 0,
      "outputs": []
    },
    {
      "cell_type": "markdown",
      "metadata": {
        "id": "aibdPQ-sOAAs",
        "colab_type": "text"
      },
      "source": [
        "##### 2. We are now importing all necessary packages for our report"
      ]
    },
    {
      "cell_type": "code",
      "metadata": {
        "id": "jUjFbM_UOAAu",
        "colab_type": "code",
        "colab": {}
      },
      "source": [
        "import pandas as pd \n",
        "import numpy as np\n",
        "import matplotlib\n",
        "import matplotlib.pyplot as plt\n",
        "import seaborn as sns\n",
        "%matplotlib inline \n",
        "\n",
        "import gc\n",
        "from datetime import datetime \n",
        "from sklearn.model_selection import train_test_split\n",
        "from sklearn.model_selection import KFold\n",
        "from sklearn.ensemble import RandomForestClassifier\n",
        "from sklearn.ensemble import AdaBoostClassifier\n",
        "from sklearn.linear_model import LogisticRegressionCV, SGDClassifier, LogisticRegression\n",
        "from sklearn.impute import SimpleImputer\n",
        "from sklearn.metrics import accuracy_score, confusion_matrix\n",
        "from xgboost import XGBClassifier\n",
        "import lightgbm as lgbm\n",
        "\n",
        "pd.set_option('display.max_columns', 500)"
      ],
      "execution_count": 0,
      "outputs": []
    },
    {
      "cell_type": "markdown",
      "metadata": {
        "id": "e5_Rw5baOAA2",
        "colab_type": "text"
      },
      "source": [
        "##### 3. We will now load the dataset"
      ]
    },
    {
      "cell_type": "code",
      "metadata": {
        "id": "sWpaiKcPOAA6",
        "colab_type": "code",
        "outputId": "94bc84b3-06c9-48c6-d39f-5b2ea2e5b3d3",
        "colab": {
          "base_uri": "https://localhost:8080/",
          "height": 229
        }
      },
      "source": [
        "data = pd.read_csv(\"/content/clean.csv\", index_col=\"Territory X Date\")\n",
        "data.head()"
      ],
      "execution_count": 0,
      "outputs": [
        {
          "output_type": "execute_result",
          "data": {
            "text/html": [
              "<div>\n",
              "<style scoped>\n",
              "    .dataframe tbody tr th:only-of-type {\n",
              "        vertical-align: middle;\n",
              "    }\n",
              "\n",
              "    .dataframe tbody tr th {\n",
              "        vertical-align: top;\n",
              "    }\n",
              "\n",
              "    .dataframe thead th {\n",
              "        text-align: right;\n",
              "    }\n",
              "</style>\n",
              "<table border=\"1\" class=\"dataframe\">\n",
              "  <thead>\n",
              "    <tr style=\"text-align: right;\">\n",
              "      <th></th>\n",
              "      <th>Date</th>\n",
              "      <th>target</th>\n",
              "      <th>cases</th>\n",
              "      <th>Territory</th>\n",
              "    </tr>\n",
              "    <tr>\n",
              "      <th>Territory X Date</th>\n",
              "      <th></th>\n",
              "      <th></th>\n",
              "      <th></th>\n",
              "      <th></th>\n",
              "    </tr>\n",
              "  </thead>\n",
              "  <tbody>\n",
              "    <tr>\n",
              "      <th>Afghanistan X 1/22/20</th>\n",
              "      <td>1/22/20</td>\n",
              "      <td>0</td>\n",
              "      <td>0</td>\n",
              "      <td>0</td>\n",
              "    </tr>\n",
              "    <tr>\n",
              "      <th>Afghanistan X 1/23/20</th>\n",
              "      <td>1/23/20</td>\n",
              "      <td>0</td>\n",
              "      <td>0</td>\n",
              "      <td>0</td>\n",
              "    </tr>\n",
              "    <tr>\n",
              "      <th>Afghanistan X 1/24/20</th>\n",
              "      <td>1/24/20</td>\n",
              "      <td>0</td>\n",
              "      <td>0</td>\n",
              "      <td>0</td>\n",
              "    </tr>\n",
              "    <tr>\n",
              "      <th>Afghanistan X 1/25/20</th>\n",
              "      <td>1/25/20</td>\n",
              "      <td>0</td>\n",
              "      <td>0</td>\n",
              "      <td>0</td>\n",
              "    </tr>\n",
              "    <tr>\n",
              "      <th>Afghanistan X 1/26/20</th>\n",
              "      <td>1/26/20</td>\n",
              "      <td>0</td>\n",
              "      <td>0</td>\n",
              "      <td>0</td>\n",
              "    </tr>\n",
              "  </tbody>\n",
              "</table>\n",
              "</div>"
            ],
            "text/plain": [
              "                          Date  target  cases  Territory\n",
              "Territory X Date                                        \n",
              "Afghanistan X 1/22/20  1/22/20       0      0          0\n",
              "Afghanistan X 1/23/20  1/23/20       0      0          0\n",
              "Afghanistan X 1/24/20  1/24/20       0      0          0\n",
              "Afghanistan X 1/25/20  1/25/20       0      0          0\n",
              "Afghanistan X 1/26/20  1/26/20       0      0          0"
            ]
          },
          "metadata": {
            "tags": []
          },
          "execution_count": 16
        }
      ]
    },
    {
      "cell_type": "code",
      "metadata": {
        "id": "Qz86B8E_uvJj",
        "colab_type": "code",
        "colab": {}
      },
      "source": [
        "x = data[[\"cases\",\"Territory\"]]\n",
        "y = data[\"target\"]\n",
        "x_train,x_test,y_train,y_test = train_test_split(x,y,test_size=0.20,random_state=0)"
      ],
      "execution_count": 0,
      "outputs": []
    },
    {
      "cell_type": "code",
      "metadata": {
        "id": "uLWrxQzDvF_F",
        "colab_type": "code",
        "outputId": "df0c326b-ac8f-4f08-9cd3-9f1af5d1d6ac",
        "colab": {
          "base_uri": "https://localhost:8080/",
          "height": 229
        }
      },
      "source": [
        "x_train.head()"
      ],
      "execution_count": 0,
      "outputs": [
        {
          "output_type": "execute_result",
          "data": {
            "text/html": [
              "<div>\n",
              "<style scoped>\n",
              "    .dataframe tbody tr th:only-of-type {\n",
              "        vertical-align: middle;\n",
              "    }\n",
              "\n",
              "    .dataframe tbody tr th {\n",
              "        vertical-align: top;\n",
              "    }\n",
              "\n",
              "    .dataframe thead th {\n",
              "        text-align: right;\n",
              "    }\n",
              "</style>\n",
              "<table border=\"1\" class=\"dataframe\">\n",
              "  <thead>\n",
              "    <tr style=\"text-align: right;\">\n",
              "      <th></th>\n",
              "      <th>cases</th>\n",
              "      <th>Territory</th>\n",
              "      <th>Date</th>\n",
              "    </tr>\n",
              "    <tr>\n",
              "      <th>Territory X Date</th>\n",
              "      <th></th>\n",
              "      <th></th>\n",
              "      <th></th>\n",
              "    </tr>\n",
              "  </thead>\n",
              "  <tbody>\n",
              "    <tr>\n",
              "      <th>Saint Kitts and Nevis X 2/15/20</th>\n",
              "      <td>0</td>\n",
              "      <td>158</td>\n",
              "      <td>2/15/20</td>\n",
              "    </tr>\n",
              "    <tr>\n",
              "      <th>Romania X 3/1/20</th>\n",
              "      <td>3</td>\n",
              "      <td>154</td>\n",
              "      <td>3/1/20</td>\n",
              "    </tr>\n",
              "    <tr>\n",
              "      <th>Niger (the) X 1/29/20</th>\n",
              "      <td>0</td>\n",
              "      <td>136</td>\n",
              "      <td>1/29/20</td>\n",
              "    </tr>\n",
              "    <tr>\n",
              "      <th>Iceland X 3/13/20</th>\n",
              "      <td>134</td>\n",
              "      <td>85</td>\n",
              "      <td>3/13/20</td>\n",
              "    </tr>\n",
              "    <tr>\n",
              "      <th>Chile X 3/4/20</th>\n",
              "      <td>1</td>\n",
              "      <td>37</td>\n",
              "      <td>3/4/20</td>\n",
              "    </tr>\n",
              "  </tbody>\n",
              "</table>\n",
              "</div>"
            ],
            "text/plain": [
              "                                 cases  Territory     Date\n",
              "Territory X Date                                          \n",
              "Saint Kitts and Nevis X 2/15/20      0        158  2/15/20\n",
              "Romania X 3/1/20                     3        154   3/1/20\n",
              "Niger (the) X 1/29/20                0        136  1/29/20\n",
              "Iceland X 3/13/20                  134         85  3/13/20\n",
              "Chile X 3/4/20                       1         37   3/4/20"
            ]
          },
          "metadata": {
            "tags": []
          },
          "execution_count": 18
        }
      ]
    },
    {
      "cell_type": "markdown",
      "metadata": {
        "id": "knv_9HgbOADU",
        "colab_type": "text"
      },
      "source": [
        "1. Logistic Regression"
      ]
    },
    {
      "cell_type": "code",
      "metadata": {
        "id": "UFVpeWulOADW",
        "colab_type": "code",
        "colab": {}
      },
      "source": [
        "log_reg = LogisticRegression()\n",
        "log_reg.fit(x_train, y_train)\n",
        "log_pred = log_reg.predict(x_test)\n",
        "log_score = round(log_reg.score(x_train, y_train) * 100, 2)"
      ],
      "execution_count": 0,
      "outputs": []
    },
    {
      "cell_type": "markdown",
      "metadata": {
        "id": "9feKgnzROADc",
        "colab_type": "text"
      },
      "source": [
        "2. Ada Boost Classifier "
      ]
    },
    {
      "cell_type": "code",
      "metadata": {
        "id": "2m04nDU0OADd",
        "colab_type": "code",
        "colab": {}
      },
      "source": [
        "abc = AdaBoostClassifier()\n",
        "abc.fit(x_train,y_train)\n",
        "abc_pred = abc.predict(x_test)\n",
        "abc_score = round(abc.score(x_train, y_train) * 100, 2)"
      ],
      "execution_count": 0,
      "outputs": []
    },
    {
      "cell_type": "markdown",
      "metadata": {
        "id": "3rmcPe7ZOADo",
        "colab_type": "text"
      },
      "source": [
        "3. Stochastic Gradient Descent (SGD) Classifier"
      ]
    },
    {
      "cell_type": "code",
      "metadata": {
        "id": "cp5fqYLJOADr",
        "colab_type": "code",
        "colab": {}
      },
      "source": [
        "sgd = SGDClassifier()\n",
        "sgd.fit(x_train,y_train)\n",
        "sgd_pred = sgd.predict(x_test)\n",
        "sgd_score = round(sgd.score(x_train, y_train) * 100, 2)"
      ],
      "execution_count": 0,
      "outputs": []
    },
    {
      "cell_type": "markdown",
      "metadata": {
        "id": "y0ESrplvOADv",
        "colab_type": "text"
      },
      "source": [
        "4. XG Boost"
      ]
    },
    {
      "cell_type": "code",
      "metadata": {
        "id": "rxkURuigOADw",
        "colab_type": "code",
        "colab": {}
      },
      "source": [
        "xgb = XGBClassifier()\n",
        "xgb.fit(x_train,y_train)\n",
        "xgb_pred = xgb.predict(x_test)\n",
        "xgb_score = round(xgb.score(x_train, y_train) * 100, 2)"
      ],
      "execution_count": 0,
      "outputs": []
    },
    {
      "cell_type": "markdown",
      "metadata": {
        "id": "87Qbv47VOAD1",
        "colab_type": "text"
      },
      "source": [
        "##### We will now check scores of all the models by comparing against each other"
      ]
    },
    {
      "cell_type": "code",
      "metadata": {
        "id": "42c9Ds-kOAD3",
        "colab_type": "code",
        "outputId": "31f6d010-a3d1-4835-e305-2f7cfc031120",
        "colab": {
          "base_uri": "https://localhost:8080/",
          "height": 168
        }
      },
      "source": [
        "models = pd.DataFrame({\n",
        "    'Model': ['Logistic Regression', 'Ada Boost Classifier',\n",
        "              'SGD Classifier', 'XG Boost'],\n",
        "    'Score': [log_score, abc_score, sgd_score, xgb_score]})\n",
        "\n",
        "models.sort_values(by='Score', ascending=False)"
      ],
      "execution_count": 0,
      "outputs": [
        {
          "output_type": "execute_result",
          "data": {
            "text/html": [
              "<div>\n",
              "<style scoped>\n",
              "    .dataframe tbody tr th:only-of-type {\n",
              "        vertical-align: middle;\n",
              "    }\n",
              "\n",
              "    .dataframe tbody tr th {\n",
              "        vertical-align: top;\n",
              "    }\n",
              "\n",
              "    .dataframe thead th {\n",
              "        text-align: right;\n",
              "    }\n",
              "</style>\n",
              "<table border=\"1\" class=\"dataframe\">\n",
              "  <thead>\n",
              "    <tr style=\"text-align: right;\">\n",
              "      <th></th>\n",
              "      <th>Model</th>\n",
              "      <th>Score</th>\n",
              "    </tr>\n",
              "  </thead>\n",
              "  <tbody>\n",
              "    <tr>\n",
              "      <th>3</th>\n",
              "      <td>XG Boost</td>\n",
              "      <td>96.99</td>\n",
              "    </tr>\n",
              "    <tr>\n",
              "      <th>1</th>\n",
              "      <td>Ada Boost Classifier</td>\n",
              "      <td>94.63</td>\n",
              "    </tr>\n",
              "    <tr>\n",
              "      <th>0</th>\n",
              "      <td>Logistic Regression</td>\n",
              "      <td>94.11</td>\n",
              "    </tr>\n",
              "    <tr>\n",
              "      <th>2</th>\n",
              "      <td>SGD Classifier</td>\n",
              "      <td>91.70</td>\n",
              "    </tr>\n",
              "  </tbody>\n",
              "</table>\n",
              "</div>"
            ],
            "text/plain": [
              "                  Model  Score\n",
              "3              XG Boost  96.99\n",
              "1  Ada Boost Classifier  94.63\n",
              "0   Logistic Regression  94.11\n",
              "2        SGD Classifier  91.70"
            ]
          },
          "metadata": {
            "tags": []
          },
          "execution_count": 27
        }
      ]
    },
    {
      "cell_type": "code",
      "metadata": {
        "id": "8eDvlwRaFau9",
        "colab_type": "code",
        "colab": {}
      },
      "source": [
        ""
      ],
      "execution_count": 0,
      "outputs": []
    }
  ]
}