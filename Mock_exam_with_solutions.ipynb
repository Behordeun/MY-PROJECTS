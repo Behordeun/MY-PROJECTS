{
  "nbformat": 4,
  "nbformat_minor": 0,
  "metadata": {
    "colab": {
      "name": "Mock exam with solutions.ipynb",
      "provenance": [],
      "collapsed_sections": [],
      "include_colab_link": true
    },
    "kernelspec": {
      "name": "python3",
      "display_name": "Python 3"
    }
  },
  "cells": [
    {
      "cell_type": "markdown",
      "metadata": {
        "id": "view-in-github",
        "colab_type": "text"
      },
      "source": [
        "<a href=\"https://colab.research.google.com/github/Behordeun/MY-PROJECTS/blob/master/Mock_exam_with_solutions.ipynb\" target=\"_parent\"><img src=\"https://colab.research.google.com/assets/colab-badge.svg\" alt=\"Open In Colab\"/></a>"
      ]
    },
    {
      "cell_type": "markdown",
      "metadata": {
        "id": "UAVO4aL1kXvb",
        "colab_type": "text"
      },
      "source": [
        "Data Source:\n",
        "[https://www.kaggle.com/edumucelli/spotifys-worldwide-daily-song-ranking/version/3#](https://www.kaggle.com/edumucelli/spotifys-worldwide-daily-song-ranking/version/3#)"
      ]
    },
    {
      "cell_type": "markdown",
      "metadata": {
        "id": "lneSPrF-UmRC",
        "colab_type": "toc"
      },
      "source": [
        ">[Q1. Import the dataset using pandas](#scrollTo=Ls_LuSrBUFXg)\n",
        "\n",
        ">[Q2. Bar plot](#scrollTo=6KnKbHp2CiWC)\n",
        "\n",
        ">[Q3. Looking for a maximum](#scrollTo=zMOL87d6HEXo)\n",
        "\n",
        ">[Q4. Data Manipulation and Plotting](#scrollTo=U1B_sw5foi4x)\n",
        "\n",
        ">[Q5. Hypothesis testing](#scrollTo=91ijoJiSvjfh)\n",
        "\n",
        ">[Q6. Confidence interval](#scrollTo=fSludxHa0LgJ)\n",
        "\n",
        ">[Q7. Hypothesis testing](#scrollTo=G-ig1CXN0dQh)\n",
        "\n",
        ">[Q8. Box Plot](#scrollTo=p258isB38min)\n",
        "\n",
        ">[Q9. Box plot](#scrollTo=I9Cqb1DrAQU_)\n",
        "\n",
        ">[Q10. Hypothesis Testing](#scrollTo=KoU7q4RfAdCv)\n",
        "\n",
        ">[Q11. Hypothesis Testing](#scrollTo=DbKNMdIdrlYU)\n",
        "\n",
        ">[Q12. Probability Distributions](#scrollTo=to_W8keae7Vy)\n",
        "\n",
        ">[Q13. Probability Distributions](#scrollTo=Jk2id3wCEu5T)\n",
        "\n"
      ]
    },
    {
      "cell_type": "code",
      "metadata": {
        "id": "1BBt1ECIJDlr",
        "colab_type": "code",
        "outputId": "b0b70018-5b1e-4b46-95f1-3e4b1be1d0df",
        "colab": {
          "base_uri": "https://localhost:8080/",
          "height": 468
        }
      },
      "source": [
        "import numpy as np\n",
        "import pandas as pd\n",
        "import matplotlib.pyplot as plt\n",
        "plt.style.use('seaborn')\n",
        "import scipy.stats as ss\n",
        "import statsmodels.stats.weightstats as smw\n",
        "import statsmodels.stats.proportion as smp\n",
        "!pip install pingouin\n",
        "import pingouin as pg\n",
        "%matplotlib inline"
      ],
      "execution_count": 0,
      "outputs": [
        {
          "output_type": "stream",
          "text": [
            "Collecting pingouin\n",
            "\u001b[?25l  Downloading https://files.pythonhosted.org/packages/6e/9e/1da9d954ff6770e187af2d6468e130aa6ed2a4825d7ac69b0744e0bb8511/pingouin-0.3.1.tar.gz (212kB)\n",
            "\r\u001b[K     |█▌                              | 10kB 14.6MB/s eta 0:00:01\r\u001b[K     |███                             | 20kB 1.7MB/s eta 0:00:01\r\u001b[K     |████▋                           | 30kB 2.5MB/s eta 0:00:01\r\u001b[K     |██████▏                         | 40kB 1.6MB/s eta 0:00:01\r\u001b[K     |███████▊                        | 51kB 2.0MB/s eta 0:00:01\r\u001b[K     |█████████▎                      | 61kB 2.4MB/s eta 0:00:01\r\u001b[K     |██████████▉                     | 71kB 2.8MB/s eta 0:00:01\r\u001b[K     |████████████▎                   | 81kB 3.1MB/s eta 0:00:01\r\u001b[K     |█████████████▉                  | 92kB 3.5MB/s eta 0:00:01\r\u001b[K     |███████████████▍                | 102kB 2.7MB/s eta 0:00:01\r\u001b[K     |█████████████████               | 112kB 2.7MB/s eta 0:00:01\r\u001b[K     |██████████████████▌             | 122kB 2.7MB/s eta 0:00:01\r\u001b[K     |████████████████████            | 133kB 2.7MB/s eta 0:00:01\r\u001b[K     |█████████████████████▋          | 143kB 2.7MB/s eta 0:00:01\r\u001b[K     |███████████████████████▏        | 153kB 2.7MB/s eta 0:00:01\r\u001b[K     |████████████████████████▋       | 163kB 2.7MB/s eta 0:00:01\r\u001b[K     |██████████████████████████▏     | 174kB 2.7MB/s eta 0:00:01\r\u001b[K     |███████████████████████████▊    | 184kB 2.7MB/s eta 0:00:01\r\u001b[K     |█████████████████████████████▎  | 194kB 2.7MB/s eta 0:00:01\r\u001b[K     |██████████████████████████████▉ | 204kB 2.7MB/s eta 0:00:01\r\u001b[K     |████████████████████████████████| 215kB 2.7MB/s \n",
            "\u001b[?25hRequirement already satisfied: numpy>=1.15 in /usr/local/lib/python3.6/dist-packages (from pingouin) (1.17.4)\n",
            "Requirement already satisfied: scipy>=1.3 in /usr/local/lib/python3.6/dist-packages (from pingouin) (1.3.3)\n",
            "Requirement already satisfied: pandas>=0.24 in /usr/local/lib/python3.6/dist-packages (from pingouin) (0.25.3)\n",
            "Requirement already satisfied: matplotlib>=3.0.2 in /usr/local/lib/python3.6/dist-packages (from pingouin) (3.1.2)\n",
            "Requirement already satisfied: seaborn>=0.9.0 in /usr/local/lib/python3.6/dist-packages (from pingouin) (0.9.0)\n",
            "Requirement already satisfied: statsmodels>=0.10.0 in /usr/local/lib/python3.6/dist-packages (from pingouin) (0.10.2)\n",
            "Collecting pandas_flavor>=0.1.2\n",
            "  Downloading https://files.pythonhosted.org/packages/9a/57/7fbcff4c0961ed190ac5fcb0bd8194152ee1ee6487edf64fdbae16e2bc4b/pandas_flavor-0.2.0-py2.py3-none-any.whl\n",
            "Requirement already satisfied: pytz>=2017.2 in /usr/local/lib/python3.6/dist-packages (from pandas>=0.24->pingouin) (2018.9)\n",
            "Requirement already satisfied: python-dateutil>=2.6.1 in /usr/local/lib/python3.6/dist-packages (from pandas>=0.24->pingouin) (2.6.1)\n",
            "Requirement already satisfied: kiwisolver>=1.0.1 in /usr/local/lib/python3.6/dist-packages (from matplotlib>=3.0.2->pingouin) (1.1.0)\n",
            "Requirement already satisfied: cycler>=0.10 in /usr/local/lib/python3.6/dist-packages (from matplotlib>=3.0.2->pingouin) (0.10.0)\n",
            "Requirement already satisfied: pyparsing!=2.0.4,!=2.1.2,!=2.1.6,>=2.0.1 in /usr/local/lib/python3.6/dist-packages (from matplotlib>=3.0.2->pingouin) (2.4.5)\n",
            "Requirement already satisfied: patsy>=0.4.0 in /usr/local/lib/python3.6/dist-packages (from statsmodels>=0.10.0->pingouin) (0.5.1)\n",
            "Requirement already satisfied: xarray in /usr/local/lib/python3.6/dist-packages (from pandas_flavor>=0.1.2->pingouin) (0.11.3)\n",
            "Requirement already satisfied: six>=1.5 in /usr/local/lib/python3.6/dist-packages (from python-dateutil>=2.6.1->pandas>=0.24->pingouin) (1.12.0)\n",
            "Requirement already satisfied: setuptools in /usr/local/lib/python3.6/dist-packages (from kiwisolver>=1.0.1->matplotlib>=3.0.2->pingouin) (42.0.1)\n",
            "Building wheels for collected packages: pingouin\n",
            "  Building wheel for pingouin (setup.py) ... \u001b[?25l\u001b[?25hdone\n",
            "  Created wheel for pingouin: filename=pingouin-0.3.1-cp36-none-any.whl size=211769 sha256=8ddc3b0a5530c80f99338fe654395a0ae1e53294029d614fc26545e5e2551620\n",
            "  Stored in directory: /root/.cache/pip/wheels/d8/b8/43/e0d0c839adc9fbc291ff3b6af77417ff61b47bf256ea2ef03a\n",
            "Successfully built pingouin\n",
            "Installing collected packages: pandas-flavor, pingouin\n",
            "Successfully installed pandas-flavor-0.2.0 pingouin-0.3.1\n"
          ],
          "name": "stdout"
        }
      ]
    },
    {
      "cell_type": "code",
      "metadata": {
        "id": "Abh1CfMvJb2N",
        "colab_type": "code",
        "outputId": "9a49d09c-6e05-4479-b257-ed538635b991",
        "colab": {
          "base_uri": "https://localhost:8080/",
          "height": 120
        }
      },
      "source": [
        "from google.colab import drive\n",
        "drive.mount(\"/content/drive\")"
      ],
      "execution_count": 0,
      "outputs": [
        {
          "output_type": "stream",
          "text": [
            "Go to this URL in a browser: https://accounts.google.com/o/oauth2/auth?client_id=947318989803-6bn6qk8qdgf4n4g3pfee6491hc0brc4i.apps.googleusercontent.com&redirect_uri=urn%3aietf%3awg%3aoauth%3a2.0%3aoob&response_type=code&scope=email%20https%3a%2f%2fwww.googleapis.com%2fauth%2fdocs.test%20https%3a%2f%2fwww.googleapis.com%2fauth%2fdrive%20https%3a%2f%2fwww.googleapis.com%2fauth%2fdrive.photos.readonly%20https%3a%2f%2fwww.googleapis.com%2fauth%2fpeopleapi.readonly\n",
            "\n",
            "Enter your authorization code:\n",
            "··········\n",
            "Mounted at /content/drive\n"
          ],
          "name": "stdout"
        }
      ]
    },
    {
      "cell_type": "markdown",
      "metadata": {
        "id": "eHuPBBCzp2j8",
        "colab_type": "text"
      },
      "source": [
        "This dataset is a subset for 4 countries (France, code \"fr\", Germany, code \"de\", Italy, code \"it\", and Spain, code \"es\") of all the songs that have been Number 1 on Spotify in these countries, and their number of daily streams."
      ]
    },
    {
      "cell_type": "markdown",
      "metadata": {
        "id": "Ls_LuSrBUFXg",
        "colab_type": "text"
      },
      "source": [
        "#Q1. Import the dataset using pandas\n",
        "\n",
        "Import the dataset 'mockspotifyNr1.csv' using a `pandas` dataframe."
      ]
    },
    {
      "cell_type": "code",
      "metadata": {
        "id": "Mdxk6om8uxkk",
        "colab_type": "code",
        "outputId": "e3a6c116-3ab5-4fb6-a451-efb1f2ae7f46",
        "colab": {
          "base_uri": "https://localhost:8080/",
          "height": 196
        }
      },
      "source": [
        "# Import the dataset mockspotifyNr1.csv\n",
        "df=pd.read_csv('/content/drive/My Drive/Stats/Mock exam/mockspotifyNr1.csv')\n",
        "df.head()\n",
        "\n"
      ],
      "execution_count": 0,
      "outputs": [
        {
          "output_type": "execute_result",
          "data": {
            "text/html": [
              "<div>\n",
              "<style scoped>\n",
              "    .dataframe tbody tr th:only-of-type {\n",
              "        vertical-align: middle;\n",
              "    }\n",
              "\n",
              "    .dataframe tbody tr th {\n",
              "        vertical-align: top;\n",
              "    }\n",
              "\n",
              "    .dataframe thead th {\n",
              "        text-align: right;\n",
              "    }\n",
              "</style>\n",
              "<table border=\"1\" class=\"dataframe\">\n",
              "  <thead>\n",
              "    <tr style=\"text-align: right;\">\n",
              "      <th></th>\n",
              "      <th>Track Name</th>\n",
              "      <th>Artist</th>\n",
              "      <th>Streams</th>\n",
              "      <th>URL</th>\n",
              "      <th>Date</th>\n",
              "      <th>Region</th>\n",
              "    </tr>\n",
              "  </thead>\n",
              "  <tbody>\n",
              "    <tr>\n",
              "      <th>0</th>\n",
              "      <td>One Dance</td>\n",
              "      <td>Drake</td>\n",
              "      <td>89403</td>\n",
              "      <td>https://open.spotify.com/track/1xznGGDReH1oQq0...</td>\n",
              "      <td>2017-01-01</td>\n",
              "      <td>fr</td>\n",
              "    </tr>\n",
              "    <tr>\n",
              "      <th>1</th>\n",
              "      <td>Mauvaise graine</td>\n",
              "      <td>Nekfeu</td>\n",
              "      <td>91971</td>\n",
              "      <td>https://open.spotify.com/track/4kKJ5CjwCtksszP...</td>\n",
              "      <td>2017-01-02</td>\n",
              "      <td>fr</td>\n",
              "    </tr>\n",
              "    <tr>\n",
              "      <th>2</th>\n",
              "      <td>Mauvaise graine</td>\n",
              "      <td>Nekfeu</td>\n",
              "      <td>94563</td>\n",
              "      <td>https://open.spotify.com/track/4kKJ5CjwCtksszP...</td>\n",
              "      <td>2017-01-03</td>\n",
              "      <td>fr</td>\n",
              "    </tr>\n",
              "    <tr>\n",
              "      <th>3</th>\n",
              "      <td>Mauvaise graine</td>\n",
              "      <td>Nekfeu</td>\n",
              "      <td>99606</td>\n",
              "      <td>https://open.spotify.com/track/4kKJ5CjwCtksszP...</td>\n",
              "      <td>2017-01-04</td>\n",
              "      <td>fr</td>\n",
              "    </tr>\n",
              "    <tr>\n",
              "      <th>4</th>\n",
              "      <td>Mauvaise graine</td>\n",
              "      <td>Nekfeu</td>\n",
              "      <td>96563</td>\n",
              "      <td>https://open.spotify.com/track/4kKJ5CjwCtksszP...</td>\n",
              "      <td>2017-01-05</td>\n",
              "      <td>fr</td>\n",
              "    </tr>\n",
              "  </tbody>\n",
              "</table>\n",
              "</div>"
            ],
            "text/plain": [
              "        Track Name  Artist  ...        Date Region\n",
              "0        One Dance   Drake  ...  2017-01-01     fr\n",
              "1  Mauvaise graine  Nekfeu  ...  2017-01-02     fr\n",
              "2  Mauvaise graine  Nekfeu  ...  2017-01-03     fr\n",
              "3  Mauvaise graine  Nekfeu  ...  2017-01-04     fr\n",
              "4  Mauvaise graine  Nekfeu  ...  2017-01-05     fr\n",
              "\n",
              "[5 rows x 6 columns]"
            ]
          },
          "metadata": {
            "tags": []
          },
          "execution_count": 4
        }
      ]
    },
    {
      "cell_type": "markdown",
      "metadata": {
        "id": "6KnKbHp2CiWC",
        "colab_type": "text"
      },
      "source": [
        "#Q2. Bar plot\n",
        "\n",
        "Create a plot to visualize the total number of streams for each country."
      ]
    },
    {
      "cell_type": "code",
      "metadata": {
        "id": "qVN3qRCE5QQo",
        "colab_type": "code",
        "outputId": "32eade0f-d6da-47d6-e5a2-671021003636",
        "colab": {
          "base_uri": "https://localhost:8080/",
          "height": 117
        }
      },
      "source": [
        "counts = df.groupby('Region').Streams.sum()\n",
        "counts\n"
      ],
      "execution_count": 0,
      "outputs": [
        {
          "output_type": "execute_result",
          "data": {
            "text/plain": [
              "Region\n",
              "de    171691565\n",
              "es    120987911\n",
              "fr     80285999\n",
              "it     64884345\n",
              "Name: Streams, dtype: int64"
            ]
          },
          "metadata": {
            "tags": []
          },
          "execution_count": 40
        }
      ]
    },
    {
      "cell_type": "code",
      "metadata": {
        "id": "sD5IwIww5kAw",
        "colab_type": "code",
        "outputId": "8ece4703-3c5e-415a-877f-076087e5c868",
        "colab": {
          "base_uri": "https://localhost:8080/",
          "height": 276
        }
      },
      "source": [
        "plt.bar(counts.index,counts);"
      ],
      "execution_count": 0,
      "outputs": [
        {
          "output_type": "display_data",
          "data": {
            "image/png": "[encoded data removed]",
            "text/plain": [
              "<Figure size 432x288 with 1 Axes>"
            ]
          },
          "metadata": {
            "tags": []
          }
        }
      ]
    },
    {
      "cell_type": "markdown",
      "metadata": {
        "id": "zMOL87d6HEXo",
        "colab_type": "text"
      },
      "source": [
        "#Q3. Looking for a maximum\n",
        "\n",
        "\n",
        "\n",
        "Compute the total number of streams per artist. Identify which artist has the maximum number of streams in the dataset. "
      ]
    },
    {
      "cell_type": "code",
      "metadata": {
        "id": "6I3Ir3nS7vgU",
        "colab_type": "code",
        "outputId": "4b06331d-42f5-4bc7-b3f6-4fef470b0d3d",
        "colab": {
          "base_uri": "https://localhost:8080/",
          "height": 803
        }
      },
      "source": [
        "counts2 = df.groupby(by='Artist').Streams.sum()\n",
        "counts2"
      ],
      "execution_count": 0,
      "outputs": [
        {
          "output_type": "execute_result",
          "data": {
            "text/plain": [
              "Artist\n",
              "187 Strassenbande       4729324\n",
              "Axwell /\\ Ingrosso     16142515\n",
              "Bad Bunny               4148530\n",
              "Bausa                  48966901\n",
              "Becky G                 9975082\n",
              "Booba                   2879968\n",
              "Camila Cabello           165951\n",
              "Capo Plaza              1643220\n",
              "Charlie Charles          221673\n",
              "Clean Bandit            1778071\n",
              "Coez                   12470178\n",
              "DJ Khaled               2366133\n",
              "Damso                  12315630\n",
              "Danny Ocean              282658\n",
              "Dark Polo Gang          2225547\n",
              "Drake                     89403\n",
              "Ed Sheeran             86004699\n",
              "Fabio Rovazzi            131723\n",
              "Francesco Gabbani       2329856\n",
              "French Montana           609176\n",
              "Gemitaiz                 945492\n",
              "Ghali                   2661181\n",
              "Gue Pequeno             1576926\n",
              "Imagine Dragons          609603\n",
              "J Balvin               22633156\n",
              "J-AX                   10149558\n",
              "Kalash                 20041844\n",
              "Kay One                 4013225\n",
              "Kollegah                 524131\n",
              "Lacrim                   766747\n",
              "Luis Fonsi            101864696\n",
              "Madman                   982893\n",
              "Maluma                 17054614\n",
              "Mariah Carey            1303370\n",
              "Natti Natasha           5903095\n",
              "Nekfeu                   382703\n",
              "Ninho                   1994988\n",
              "Niska                  18323509\n",
              "Orelsan                  436954\n",
              "Post Malone             6341166\n",
              "Robin Schulz             617640\n",
              "Salmo                   2625707\n",
              "Sfera Ebbasta           2381939\n",
              "Shakira                 2957513\n",
              "Wham!                   1280932\n",
              "Name: Streams, dtype: int64"
            ]
          },
          "metadata": {
            "tags": []
          },
          "execution_count": 43
        }
      ]
    },
    {
      "cell_type": "code",
      "metadata": {
        "id": "1IOMG2TaI8dr",
        "colab_type": "code",
        "outputId": "7f4d5ff4-3763-46c9-cd4f-8403f928f43b",
        "colab": {
          "base_uri": "https://localhost:8080/",
          "height": 803
        }
      },
      "source": [
        "counts2.sort_values(ascending=False)\n"
      ],
      "execution_count": 0,
      "outputs": [
        {
          "output_type": "execute_result",
          "data": {
            "text/plain": [
              "Artist\n",
              "Luis Fonsi            101864696\n",
              "Ed Sheeran             86004699\n",
              "Bausa                  48966901\n",
              "J Balvin               22633156\n",
              "Kalash                 20041844\n",
              "Niska                  18323509\n",
              "Maluma                 17054614\n",
              "Axwell /\\ Ingrosso     16142515\n",
              "Coez                   12470178\n",
              "Damso                  12315630\n",
              "J-AX                   10149558\n",
              "Becky G                 9975082\n",
              "Post Malone             6341166\n",
              "Natti Natasha           5903095\n",
              "187 Strassenbande       4729324\n",
              "Bad Bunny               4148530\n",
              "Kay One                 4013225\n",
              "Shakira                 2957513\n",
              "Booba                   2879968\n",
              "Ghali                   2661181\n",
              "Salmo                   2625707\n",
              "Sfera Ebbasta           2381939\n",
              "DJ Khaled               2366133\n",
              "Francesco Gabbani       2329856\n",
              "Dark Polo Gang          2225547\n",
              "Ninho                   1994988\n",
              "Clean Bandit            1778071\n",
              "Capo Plaza              1643220\n",
              "Gue Pequeno             1576926\n",
              "Mariah Carey            1303370\n",
              "Wham!                   1280932\n",
              "Madman                   982893\n",
              "Gemitaiz                 945492\n",
              "Lacrim                   766747\n",
              "Robin Schulz             617640\n",
              "Imagine Dragons          609603\n",
              "French Montana           609176\n",
              "Kollegah                 524131\n",
              "Orelsan                  436954\n",
              "Nekfeu                   382703\n",
              "Danny Ocean              282658\n",
              "Charlie Charles          221673\n",
              "Camila Cabello           165951\n",
              "Fabio Rovazzi            131723\n",
              "Drake                     89403\n",
              "Name: Streams, dtype: int64"
            ]
          },
          "metadata": {
            "tags": []
          },
          "execution_count": 45
        }
      ]
    },
    {
      "cell_type": "markdown",
      "metadata": {
        "id": "06t8WxktrKxU",
        "colab_type": "text"
      },
      "source": [
        "Luis Fonsi"
      ]
    },
    {
      "cell_type": "code",
      "metadata": {
        "id": "Hsvr5lwEHn-e",
        "colab_type": "code",
        "outputId": "7868aa6f-589f-45f2-f51d-0e15aa089481",
        "colab": {
          "base_uri": "https://localhost:8080/",
          "height": 33
        }
      },
      "source": [
        "#alternative solution:\n",
        "topArtist = counts2.idxmax()\n",
        "topArtist\n"
      ],
      "execution_count": 0,
      "outputs": [
        {
          "output_type": "execute_result",
          "data": {
            "text/plain": [
              "'Luis Fonsi'"
            ]
          },
          "metadata": {
            "tags": []
          },
          "execution_count": 56
        }
      ]
    },
    {
      "cell_type": "markdown",
      "metadata": {
        "id": "FfSyX1leMCd6",
        "colab_type": "text"
      },
      "source": [
        "The top artist in these four countries is Luis Fonsi."
      ]
    },
    {
      "cell_type": "markdown",
      "metadata": {
        "id": "U1B_sw5foi4x",
        "colab_type": "text"
      },
      "source": [
        "#Q4. Data Manipulation and Plotting\n",
        "\n",
        "Select only those that were number 1 in Spain (Region=\"es\") and plot distribution of number of streams. Obtain some summary statistics. How many days are recorded?"
      ]
    },
    {
      "cell_type": "code",
      "metadata": {
        "id": "36NL_2ABol4P",
        "colab_type": "code",
        "outputId": "e8d91df2-6592-4ae6-aff1-d3cbcf1d2117",
        "colab": {
          "base_uri": "https://localhost:8080/",
          "height": 196
        }
      },
      "source": [
        "dfES = df[df['Region']=='es']\n",
        "dfES.head()\n",
        "\n",
        "\n"
      ],
      "execution_count": 0,
      "outputs": [
        {
          "output_type": "execute_result",
          "data": {
            "text/html": [
              "<div>\n",
              "<style scoped>\n",
              "    .dataframe tbody tr th:only-of-type {\n",
              "        vertical-align: middle;\n",
              "    }\n",
              "\n",
              "    .dataframe tbody tr th {\n",
              "        vertical-align: top;\n",
              "    }\n",
              "\n",
              "    .dataframe thead th {\n",
              "        text-align: right;\n",
              "    }\n",
              "</style>\n",
              "<table border=\"1\" class=\"dataframe\">\n",
              "  <thead>\n",
              "    <tr style=\"text-align: right;\">\n",
              "      <th></th>\n",
              "      <th>Track Name</th>\n",
              "      <th>Artist</th>\n",
              "      <th>Streams</th>\n",
              "      <th>URL</th>\n",
              "      <th>Date</th>\n",
              "      <th>Region</th>\n",
              "    </tr>\n",
              "  </thead>\n",
              "  <tbody>\n",
              "    <tr>\n",
              "      <th>1113</th>\n",
              "      <td>Chantaje</td>\n",
              "      <td>Shakira</td>\n",
              "      <td>189721</td>\n",
              "      <td>https://open.spotify.com/track/6mICuAdrwEjh6Y6...</td>\n",
              "      <td>2017-01-01</td>\n",
              "      <td>es</td>\n",
              "    </tr>\n",
              "    <tr>\n",
              "      <th>1114</th>\n",
              "      <td>Chantaje</td>\n",
              "      <td>Shakira</td>\n",
              "      <td>211834</td>\n",
              "      <td>https://open.spotify.com/track/6mICuAdrwEjh6Y6...</td>\n",
              "      <td>2017-01-02</td>\n",
              "      <td>es</td>\n",
              "    </tr>\n",
              "    <tr>\n",
              "      <th>1115</th>\n",
              "      <td>Chantaje</td>\n",
              "      <td>Shakira</td>\n",
              "      <td>212954</td>\n",
              "      <td>https://open.spotify.com/track/6mICuAdrwEjh6Y6...</td>\n",
              "      <td>2017-01-03</td>\n",
              "      <td>es</td>\n",
              "    </tr>\n",
              "    <tr>\n",
              "      <th>1116</th>\n",
              "      <td>Chantaje</td>\n",
              "      <td>Shakira</td>\n",
              "      <td>218958</td>\n",
              "      <td>https://open.spotify.com/track/6mICuAdrwEjh6Y6...</td>\n",
              "      <td>2017-01-04</td>\n",
              "      <td>es</td>\n",
              "    </tr>\n",
              "    <tr>\n",
              "      <th>1117</th>\n",
              "      <td>Chantaje</td>\n",
              "      <td>Shakira</td>\n",
              "      <td>235938</td>\n",
              "      <td>https://open.spotify.com/track/6mICuAdrwEjh6Y6...</td>\n",
              "      <td>2017-01-05</td>\n",
              "      <td>es</td>\n",
              "    </tr>\n",
              "  </tbody>\n",
              "</table>\n",
              "</div>"
            ],
            "text/plain": [
              "     Track Name   Artist  ...        Date Region\n",
              "1113   Chantaje  Shakira  ...  2017-01-01     es\n",
              "1114   Chantaje  Shakira  ...  2017-01-02     es\n",
              "1115   Chantaje  Shakira  ...  2017-01-03     es\n",
              "1116   Chantaje  Shakira  ...  2017-01-04     es\n",
              "1117   Chantaje  Shakira  ...  2017-01-05     es\n",
              "\n",
              "[5 rows x 6 columns]"
            ]
          },
          "metadata": {
            "tags": []
          },
          "execution_count": 51
        }
      ]
    },
    {
      "cell_type": "code",
      "metadata": {
        "id": "_W_28qSxNZSX",
        "colab_type": "code",
        "outputId": "2f10e4de-8ff3-4795-94c2-a61484f8b0d2",
        "colab": {
          "base_uri": "https://localhost:8080/",
          "height": 50
        }
      },
      "source": [
        "print(\"Total nr. of observations of #1 in Spain (nr. of different days) = \", len(dfES))\n",
        "len(dfES)\n"
      ],
      "execution_count": 0,
      "outputs": [
        {
          "output_type": "stream",
          "text": [
            "Total nr. of observations of #1 in Spain (nr. of different days) =  371\n"
          ],
          "name": "stdout"
        },
        {
          "output_type": "execute_result",
          "data": {
            "text/plain": [
              "371"
            ]
          },
          "metadata": {
            "tags": []
          },
          "execution_count": 54
        }
      ]
    },
    {
      "cell_type": "code",
      "metadata": {
        "id": "QOhQo5P4Oumt",
        "colab_type": "code",
        "outputId": "f8eeb9f6-1bc1-4522-e8ba-826b09cf23bc",
        "colab": {
          "base_uri": "https://localhost:8080/",
          "height": 271
        }
      },
      "source": [
        "dfES['Streams'].hist(edgecolor=\"white\", bins=10);"
      ],
      "execution_count": 0,
      "outputs": [
        {
          "output_type": "display_data",
          "data": {
            "image/png": "[encoded data removed]",
            "text/plain": [
              "<Figure size 432x288 with 1 Axes>"
            ]
          },
          "metadata": {
            "tags": []
          }
        }
      ]
    },
    {
      "cell_type": "markdown",
      "metadata": {
        "id": "_WRxOFEhYpnn",
        "colab_type": "text"
      },
      "source": [
        "The distribution is unimodal, right-skewed, no outliers\n"
      ]
    },
    {
      "cell_type": "code",
      "metadata": {
        "id": "SDM9IucFMRc-",
        "colab_type": "code",
        "outputId": "7515b942-2a9f-431a-a6f4-22132d2a085f",
        "colab": {
          "base_uri": "https://localhost:8080/",
          "height": 297
        }
      },
      "source": [
        "dfES.describe()"
      ],
      "execution_count": 0,
      "outputs": [
        {
          "output_type": "execute_result",
          "data": {
            "text/html": [
              "<div>\n",
              "<style scoped>\n",
              "    .dataframe tbody tr th:only-of-type {\n",
              "        vertical-align: middle;\n",
              "    }\n",
              "\n",
              "    .dataframe tbody tr th {\n",
              "        vertical-align: top;\n",
              "    }\n",
              "\n",
              "    .dataframe thead th {\n",
              "        text-align: right;\n",
              "    }\n",
              "</style>\n",
              "<table border=\"1\" class=\"dataframe\">\n",
              "  <thead>\n",
              "    <tr style=\"text-align: right;\">\n",
              "      <th></th>\n",
              "      <th>Streams</th>\n",
              "    </tr>\n",
              "  </thead>\n",
              "  <tbody>\n",
              "    <tr>\n",
              "      <th>count</th>\n",
              "      <td>371.000000</td>\n",
              "    </tr>\n",
              "    <tr>\n",
              "      <th>mean</th>\n",
              "      <td>326112.967655</td>\n",
              "    </tr>\n",
              "    <tr>\n",
              "      <th>std</th>\n",
              "      <td>113771.923746</td>\n",
              "    </tr>\n",
              "    <tr>\n",
              "      <th>min</th>\n",
              "      <td>189721.000000</td>\n",
              "    </tr>\n",
              "    <tr>\n",
              "      <th>25%</th>\n",
              "      <td>255029.500000</td>\n",
              "    </tr>\n",
              "    <tr>\n",
              "      <th>50%</th>\n",
              "      <td>289244.000000</td>\n",
              "    </tr>\n",
              "    <tr>\n",
              "      <th>75%</th>\n",
              "      <td>350596.000000</td>\n",
              "    </tr>\n",
              "    <tr>\n",
              "      <th>max</th>\n",
              "      <td>769555.000000</td>\n",
              "    </tr>\n",
              "  </tbody>\n",
              "</table>\n",
              "</div>"
            ],
            "text/plain": [
              "             Streams\n",
              "count     371.000000\n",
              "mean   326112.967655\n",
              "std    113771.923746\n",
              "min    189721.000000\n",
              "25%    255029.500000\n",
              "50%    289244.000000\n",
              "75%    350596.000000\n",
              "max    769555.000000"
            ]
          },
          "metadata": {
            "tags": []
          },
          "execution_count": 14
        }
      ]
    },
    {
      "cell_type": "markdown",
      "metadata": {
        "id": "91ijoJiSvjfh",
        "colab_type": "text"
      },
      "source": [
        "#Q5. Hypothesis testing\n",
        "\n",
        "Get the average number of streams of the entire dataset (only for #1 songs) and test whether there exists enough evidence to claim that the average number of streams in Spain for  #1 songs  is more than the average over the four countries (including Spain)."
      ]
    },
    {
      "cell_type": "code",
      "metadata": {
        "id": "e02kL-zawp_T",
        "colab_type": "code",
        "outputId": "0be8ad21-ff44-4ddb-8f3b-e366dfddd26b",
        "colab": {
          "base_uri": "https://localhost:8080/",
          "height": 33
        }
      },
      "source": [
        "mean4countries = df['Streams'].mean()\n",
        "print(\"Avg Streams of Nr. 1 Songs over the four countries = {0:.2f}, and I like {1}\".format(mean4countries,topArtist))"
      ],
      "execution_count": 0,
      "outputs": [
        {
          "output_type": "stream",
          "text": [
            "Avg Streams of Nr. 1 Songs over the four countries = 295047.05, and I like Luis Fonsi\n"
          ],
          "name": "stdout"
        }
      ]
    },
    {
      "cell_type": "code",
      "metadata": {
        "id": "wyRWp-mYwzgZ",
        "colab_type": "code",
        "outputId": "5626919d-d2cf-4b6f-bf96-7e4f99fdd529",
        "colab": {
          "base_uri": "https://localhost:8080/",
          "height": 33
        }
      },
      "source": [
        "mean4countries = df['Streams'].mean()\n",
        "mean4countries"
      ],
      "execution_count": 0,
      "outputs": [
        {
          "output_type": "execute_result",
          "data": {
            "text/plain": [
              "295047.0485175202"
            ]
          },
          "metadata": {
            "tags": []
          },
          "execution_count": 22
        }
      ]
    },
    {
      "cell_type": "code",
      "metadata": {
        "id": "jhJ6XMpuWK08",
        "colab_type": "code",
        "outputId": "e28e7765-6578-4d14-c751-5cfcc8a592ca",
        "colab": {
          "base_uri": "https://localhost:8080/",
          "height": 34
        }
      },
      "source": [
        "meanES = dfES['Streams'].mean()\n",
        "print(\"Spain Avg Streams of Nr. 1 Songs                   = {0:.2f}\".format(meanES))"
      ],
      "execution_count": 0,
      "outputs": [
        {
          "output_type": "stream",
          "text": [
            "Spain Avg Streams of Nr. 1 Songs                   = 326112.97\n"
          ],
          "name": "stdout"
        }
      ]
    },
    {
      "cell_type": "code",
      "metadata": {
        "id": "1CIY8VNEaYGS",
        "colab_type": "code",
        "outputId": "48da5884-e242-4233-a983-ae8aafd98e07",
        "colab": {
          "base_uri": "https://localhost:8080/",
          "height": 34
        }
      },
      "source": [
        "meanES"
      ],
      "execution_count": 0,
      "outputs": [
        {
          "output_type": "execute_result",
          "data": {
            "text/plain": [
              "326112.96765498654"
            ]
          },
          "metadata": {
            "tags": []
          },
          "execution_count": 49
        }
      ]
    },
    {
      "cell_type": "markdown",
      "metadata": {
        "id": "XBglKsB3xiwR",
        "colab_type": "text"
      },
      "source": [
        "We want to run the following test, using the Spanish subset:\n",
        "$$\n",
        "\\begin{equation*}\n",
        "\\begin{cases}\n",
        "H_0 : & \\mu_{ES} \\leq 295047\\\\\n",
        "H_a : & \\mu_{ES} > 295047\n",
        "\\end{cases}\n",
        "\\end{equation*}\n",
        "$$"
      ]
    },
    {
      "cell_type": "code",
      "metadata": {
        "id": "4A8iH6QBx409",
        "colab_type": "code",
        "outputId": "cac66b01-2476-4146-b18b-941f3b3a8474",
        "colab": {
          "base_uri": "https://localhost:8080/",
          "height": 67
        }
      },
      "source": [
        "mu0 = mean4countries\n",
        "res = smw.DescrStatsW(dfES['Streams'])\n",
        "tStat, pVal, dfreedom = res.ttest_mean(value=mu0, alternative='larger')\n",
        "print(\"Test Stat t        = {0:6.3f}\".format(tStat))\n",
        "print(\"p-value            = {0:6.3f}\".format(pVal))\n",
        "print(\"degrees of freedom = {0:6.0f}\".format(dfreedom))"
      ],
      "execution_count": 0,
      "outputs": [
        {
          "output_type": "stream",
          "text": [
            "Test Stat t        =  5.259\n",
            "p-value            =  0.000\n",
            "degrees of freedom =    370\n"
          ],
          "name": "stdout"
        }
      ]
    },
    {
      "cell_type": "code",
      "metadata": {
        "id": "dNcB_B4bwNMl",
        "colab_type": "code",
        "outputId": "fb96c1b3-0103-49e6-9bf1-39883cc6b872",
        "colab": {
          "base_uri": "https://localhost:8080/",
          "height": 33
        }
      },
      "source": [
        "tStat, pVal, dfreedom"
      ],
      "execution_count": 0,
      "outputs": [
        {
          "output_type": "execute_result",
          "data": {
            "text/plain": [
              "(5.259398288848054, 1.225397730393931e-07, 370.0)"
            ]
          },
          "metadata": {
            "tags": []
          },
          "execution_count": 59
        }
      ]
    },
    {
      "cell_type": "markdown",
      "metadata": {
        "id": "N_AunT_HO6ss",
        "colab_type": "text"
      },
      "source": [
        "Since the p-value is smaller than $\\alpha$, we reject $H_0$: there is enough evidence to claim that the number of streams in Spain is higher than the average of the four countries."
      ]
    },
    {
      "cell_type": "markdown",
      "metadata": {
        "id": "fSludxHa0LgJ",
        "colab_type": "text"
      },
      "source": [
        "#Q6. Confidence interval\n",
        "\n",
        "Provide a 95% confidence interval for the average number of streams of nr. 1 songs in Spain. "
      ]
    },
    {
      "cell_type": "code",
      "metadata": {
        "id": "X_tV6oPzwPWu",
        "colab_type": "code",
        "outputId": "cc975258-6428-496f-8690-b9e588fd77d3",
        "colab": {
          "base_uri": "https://localhost:8080/",
          "height": 33
        }
      },
      "source": [
        "lower, upper = res.tconfint_mean()\n",
        "lower,upper"
      ],
      "execution_count": 0,
      "outputs": [
        {
          "output_type": "execute_result",
          "data": {
            "text/plain": [
              "(314497.9687772261, 337727.96653274697)"
            ]
          },
          "metadata": {
            "tags": []
          },
          "execution_count": 60
        }
      ]
    },
    {
      "cell_type": "code",
      "metadata": {
        "id": "YoR8ZHbvHi_E",
        "colab_type": "code",
        "outputId": "c565d7d9-369c-43c5-a86d-c1d3867d6311",
        "colab": {
          "base_uri": "https://localhost:8080/",
          "height": 33
        }
      },
      "source": [
        "lower, upper = res.zconfint_mean()\n",
        "lower,upper"
      ],
      "execution_count": 0,
      "outputs": [
        {
          "output_type": "execute_result",
          "data": {
            "text/plain": [
              "(314535.96220453916, 337689.9731054339)"
            ]
          },
          "metadata": {
            "tags": []
          },
          "execution_count": 63
        }
      ]
    },
    {
      "cell_type": "code",
      "metadata": {
        "id": "JssaQCrryrM0",
        "colab_type": "code",
        "outputId": "c7a317c8-5779-46de-fc45-d7453c2457a8",
        "colab": {
          "base_uri": "https://localhost:8080/",
          "height": 33
        }
      },
      "source": [
        "print(\"95% CI = [{0:6.1f}, {1:6.1f}]\".format(lower, upper))"
      ],
      "execution_count": 0,
      "outputs": [
        {
          "output_type": "stream",
          "text": [
            "95% CI = [314498.0, 337728.0]\n"
          ],
          "name": "stdout"
        }
      ]
    },
    {
      "cell_type": "code",
      "metadata": {
        "id": "nEjOEwzxy5H5",
        "colab_type": "code",
        "outputId": "d900b250-25b3-4c05-e1b5-8f63fa8a1f43",
        "colab": {
          "base_uri": "https://localhost:8080/",
          "height": 33
        }
      },
      "source": [
        "print(\"95% CI = [{0}, {1}]\".format(lower, upper))"
      ],
      "execution_count": 0,
      "outputs": [
        {
          "output_type": "stream",
          "text": [
            "95% CI = [314497.9687772261, 337727.96653274697]\n"
          ],
          "name": "stdout"
        }
      ]
    },
    {
      "cell_type": "markdown",
      "metadata": {
        "id": "G-ig1CXN0dQh",
        "colab_type": "text"
      },
      "source": [
        "#Q7. Hypothesis testing\n",
        "\n",
        "Are the average number of streams of nr 1 songs in Spain and France different?"
      ]
    },
    {
      "cell_type": "markdown",
      "metadata": {
        "id": "e0hOM0038UkA",
        "colab_type": "text"
      },
      "source": [
        "$$\n",
        "\\begin{equation*}\n",
        "\\begin{cases}\n",
        "H_0 : & \\mu_{ES} = \\mu_{FR}\\\\\n",
        "H_1 : & \\mu_{ES} \\neq \\mu_{FR}\n",
        "\\end{cases}\n",
        "\\end{equation*}\n",
        "$$"
      ]
    },
    {
      "cell_type": "code",
      "metadata": {
        "id": "o_xBE4xaiJfd",
        "colab_type": "code",
        "outputId": "3b4faa3d-b702-49e8-c160-c4bc2a920b79",
        "colab": {
          "base_uri": "https://localhost:8080/",
          "height": 33
        }
      },
      "source": [
        "dfFR = df[(df['Region']=='fr')]\n",
        "len(dfFR),len(dfES)"
      ],
      "execution_count": 0,
      "outputs": [
        {
          "output_type": "execute_result",
          "data": {
            "text/plain": [
              "(371, 371)"
            ]
          },
          "metadata": {
            "tags": []
          },
          "execution_count": 31
        }
      ]
    },
    {
      "cell_type": "code",
      "metadata": {
        "id": "vngn27H4jNQI",
        "colab_type": "code",
        "outputId": "3b9f9e22-32fb-4281-c9d0-1008a1e8dff8",
        "colab": {
          "base_uri": "https://localhost:8080/",
          "height": 34
        }
      },
      "source": [
        "dfES['Streams'].mean(),np.round(dfES['Streams'].mean(),2)\n"
      ],
      "execution_count": 0,
      "outputs": [
        {
          "output_type": "execute_result",
          "data": {
            "text/plain": [
              "(326112.96765498654, 326112.97)"
            ]
          },
          "metadata": {
            "tags": []
          },
          "execution_count": 20
        }
      ]
    },
    {
      "cell_type": "code",
      "metadata": {
        "id": "xd1q3p2Cjrfo",
        "colab_type": "code",
        "outputId": "47917b63-6427-4636-81ce-25abd6642bc9",
        "colab": {
          "base_uri": "https://localhost:8080/",
          "height": 34
        }
      },
      "source": [
        "dfFR['Streams'].mean(),np.round(dfFR['Streams'].mean(),2)"
      ],
      "execution_count": 0,
      "outputs": [
        {
          "output_type": "execute_result",
          "data": {
            "text/plain": [
              "(216404.30997304583, 216404.31)"
            ]
          },
          "metadata": {
            "tags": []
          },
          "execution_count": 21
        }
      ]
    },
    {
      "cell_type": "code",
      "metadata": {
        "id": "X9BlUi6Mj3TL",
        "colab_type": "code",
        "outputId": "8dbae0b2-cb23-4aca-e165-285d66b83978",
        "colab": {
          "base_uri": "https://localhost:8080/",
          "height": 178
        }
      },
      "source": [
        "tStat, pVal, ddf = smw.ttest_ind(dfES['Streams'], dfFR['Streams'], alternative='two-sided')\n",
        "tStat, pVal, ddf"
      ],
      "execution_count": 0,
      "outputs": [
        {
          "output_type": "error",
          "ename": "NameError",
          "evalue": "ignored",
          "traceback": [
            "\u001b[0;31m---------------------------------------------------------------------------\u001b[0m",
            "\u001b[0;31mNameError\u001b[0m                                 Traceback (most recent call last)",
            "\u001b[0;32m<ipython-input-20-9800abc14940>\u001b[0m in \u001b[0;36m<module>\u001b[0;34m()\u001b[0m\n\u001b[0;32m----> 1\u001b[0;31m \u001b[0mtStat\u001b[0m\u001b[0;34m,\u001b[0m \u001b[0mpVal\u001b[0m\u001b[0;34m,\u001b[0m \u001b[0mddf\u001b[0m \u001b[0;34m=\u001b[0m \u001b[0msmw\u001b[0m\u001b[0;34m.\u001b[0m\u001b[0mttest_ind\u001b[0m\u001b[0;34m(\u001b[0m\u001b[0mdfES\u001b[0m\u001b[0;34m[\u001b[0m\u001b[0;34m'Streams'\u001b[0m\u001b[0;34m]\u001b[0m\u001b[0;34m,\u001b[0m \u001b[0mdfFR\u001b[0m\u001b[0;34m[\u001b[0m\u001b[0;34m'Streams'\u001b[0m\u001b[0;34m]\u001b[0m\u001b[0;34m,\u001b[0m \u001b[0malternative\u001b[0m\u001b[0;34m=\u001b[0m\u001b[0;34m'two-sided'\u001b[0m\u001b[0;34m)\u001b[0m\u001b[0;34m\u001b[0m\u001b[0;34m\u001b[0m\u001b[0m\n\u001b[0m\u001b[1;32m      2\u001b[0m \u001b[0mtStat\u001b[0m\u001b[0;34m,\u001b[0m \u001b[0mpVal\u001b[0m\u001b[0;34m,\u001b[0m \u001b[0mddf\u001b[0m\u001b[0;34m\u001b[0m\u001b[0;34m\u001b[0m\u001b[0m\n",
            "\u001b[0;31mNameError\u001b[0m: name 'dfFR' is not defined"
          ]
        }
      ]
    },
    {
      "cell_type": "markdown",
      "metadata": {
        "id": "5FV-Z-_tm3EL",
        "colab_type": "text"
      },
      "source": [
        "We reject the null since the pvalue is 0 and it is below any significance level"
      ]
    },
    {
      "cell_type": "code",
      "metadata": {
        "id": "aE8iVq1CPjtQ",
        "colab_type": "code",
        "outputId": "0310778a-34c3-4119-bce7-ef76854d02ea",
        "colab": {
          "base_uri": "https://localhost:8080/",
          "height": 187
        }
      },
      "source": [
        "# Alternatively using the function 'print'\n",
        "dfFR = df[(df['Region']=='fr')]\n",
        "print(\"Observations in 'fr' = \", len(dfFR))\n",
        "print(\"Observations in 'es' = \", len(dfES))\n",
        "\n",
        "print(\"Avg Streams # 1 songs :\")\n",
        "print(\"\\t Spain   =\", np.round(dfES['Streams'].mean(),2))\n",
        "print(\"Observations in 'fr' = \", len(dfFR))\n",
        "print(\"Observations in 'es' = \", len(dfES))\n",
        "print(\"\\t France  =\", np.round(dfFR['Streams'].mean(),2))\n",
        "\n",
        "tStat, pVal, ddf = smw.ttest_ind(dfES['Streams'], dfFR['Streams'], alternative='two-sided')\n",
        "print(\"Test Stat t = {0:6.3f}\".format(tStat))\n",
        "print(\"p-value     = {0:6.3f}\".format(pVal))\n",
        "alpha=0.05\n",
        "if pVal < alpha:\n",
        "  print(\"Since p-value ({0:5.3f}) is less than alpha ({1:5.2f}), we reject H0: the two means are different\".format(pVal, alpha))\n",
        "else:\n",
        "  print(\"Since p-value ({0:5.3f}) is greater than alpha ({1:5.2f}), we fail to reject H0: the means are not significantly different\".format(pVal, alpha))\n"
      ],
      "execution_count": 0,
      "outputs": [
        {
          "output_type": "stream",
          "text": [
            "Observations in 'fr' =  371\n",
            "Observations in 'es' =  371\n",
            "Avg Streams # 1 songs :\n",
            "\t Spain   = 326112.97\n",
            "Observations in 'fr' =  371\n",
            "Observations in 'es' =  371\n",
            "\t France  = 216404.31\n",
            "Test Stat t = 16.611\n",
            "p-value     =  0.000\n",
            "Since p-value (0.000) is less than alpha ( 0.05), we reject H0: the two means are different\n"
          ],
          "name": "stdout"
        }
      ]
    },
    {
      "cell_type": "markdown",
      "metadata": {
        "id": "p258isB38min",
        "colab_type": "text"
      },
      "source": [
        "#Q8. Box Plot\n",
        "\n",
        "Create a boxplot to visualize the distribution of Streams over the two countries. What do you observe?"
      ]
    },
    {
      "cell_type": "code",
      "metadata": {
        "id": "JYks_ij88qjl",
        "colab_type": "code",
        "outputId": "eef8af9a-4bd8-4381-c8f9-2cbe8cc50188",
        "colab": {
          "base_uri": "https://localhost:8080/",
          "height": 268
        }
      },
      "source": [
        "plt.boxplot([dfES['Streams'], dfFR['Streams']])\n",
        "plt.xticks([1,2], [\"ES\", \"FR\"]);"
      ],
      "execution_count": 0,
      "outputs": [
        {
          "output_type": "display_data",
          "data": {
            "image/png": "[encoded data removed]",
            "text/plain": [
              "<Figure size 432x288 with 1 Axes>"
            ]
          },
          "metadata": {
            "tags": []
          }
        }
      ]
    },
    {
      "cell_type": "markdown",
      "metadata": {
        "id": "Mh99Z_RHRYaI",
        "colab_type": "text"
      },
      "source": [
        "We see that the values are lower for France, with less high outliers than in Spain."
      ]
    },
    {
      "cell_type": "markdown",
      "metadata": {
        "id": "I9Cqb1DrAQU_",
        "colab_type": "text"
      },
      "source": [
        "#Q9. Box plot\n",
        "\n",
        "Consider now the four regions, \"es\", \"fr\", \"it\", and \"de\" and the observations of nr. 1 songs. Create a boxplot to visually compare the distribution of streams of these four countries for #1 songs. What do you see?"
      ]
    },
    {
      "cell_type": "code",
      "metadata": {
        "id": "DlI9F5ld9m-V",
        "colab_type": "code",
        "outputId": "c6ecbfa6-ed89-4615-948d-b669f8b76d8b",
        "colab": {
          "base_uri": "https://localhost:8080/",
          "height": 310
        }
      },
      "source": [
        "df.boxplot('Streams', by='Region')\n",
        "plt.title('');"
      ],
      "execution_count": 0,
      "outputs": [
        {
          "output_type": "display_data",
          "data": {
            "image/png": "[encoded data removed]",
            "text/plain": [
              "<Figure size 432x288 with 1 Axes>"
            ]
          },
          "metadata": {
            "tags": []
          }
        }
      ]
    },
    {
      "cell_type": "markdown",
      "metadata": {
        "id": "KoU7q4RfAdCv",
        "colab_type": "text"
      },
      "source": [
        "#Q10. Hypothesis Testing\n",
        "\n",
        "Use the appropriate statistical technique to determine whether the average number of streams over the four countries differ. Check the assumptions required to use that technique. Clearly state your findings."
      ]
    },
    {
      "cell_type": "code",
      "metadata": {
        "id": "KUjBV_BMpF7W",
        "colab_type": "code",
        "outputId": "2a7a7fb4-2ef4-48ce-897e-a5762c1c13e7",
        "colab": {
          "base_uri": "https://localhost:8080/",
          "height": 77
        }
      },
      "source": [
        "pg.homoscedasticity(data=df, dv='Streams', group='Region')"
      ],
      "execution_count": 0,
      "outputs": [
        {
          "output_type": "execute_result",
          "data": {
            "text/html": [
              "<div>\n",
              "<style scoped>\n",
              "    .dataframe tbody tr th:only-of-type {\n",
              "        vertical-align: middle;\n",
              "    }\n",
              "\n",
              "    .dataframe tbody tr th {\n",
              "        vertical-align: top;\n",
              "    }\n",
              "\n",
              "    .dataframe thead th {\n",
              "        text-align: right;\n",
              "    }\n",
              "</style>\n",
              "<table border=\"1\" class=\"dataframe\">\n",
              "  <thead>\n",
              "    <tr style=\"text-align: right;\">\n",
              "      <th></th>\n",
              "      <th>W</th>\n",
              "      <th>pval</th>\n",
              "      <th>equal_var</th>\n",
              "    </tr>\n",
              "  </thead>\n",
              "  <tbody>\n",
              "    <tr>\n",
              "      <th>levene</th>\n",
              "      <td>72.404</td>\n",
              "      <td>1.076461e-43</td>\n",
              "      <td>False</td>\n",
              "    </tr>\n",
              "  </tbody>\n",
              "</table>\n",
              "</div>"
            ],
            "text/plain": [
              "             W          pval  equal_var\n",
              "levene  72.404  1.076461e-43      False"
            ]
          },
          "metadata": {
            "tags": []
          },
          "execution_count": 21
        }
      ]
    },
    {
      "cell_type": "code",
      "metadata": {
        "id": "B-Gk2TKoS9OG",
        "colab_type": "code",
        "outputId": "619ac920-b064-4703-bfb9-0d4784ee08f3",
        "colab": {
          "base_uri": "https://localhost:8080/",
          "height": 304
        }
      },
      "source": [
        "pg.qqplot(dfES['Streams']);"
      ],
      "execution_count": 0,
      "outputs": [
        {
          "output_type": "display_data",
          "data": {
            "image/png": "[encoded data removed]",
            "text/plain": [
              "<Figure size 360x288 with 1 Axes>"
            ]
          },
          "metadata": {
            "tags": []
          }
        }
      ]
    },
    {
      "cell_type": "code",
      "metadata": {
        "id": "idzVRedPTBVG",
        "colab_type": "code",
        "outputId": "cfed18a7-2ba9-475c-8055-5d76914d9474",
        "colab": {
          "base_uri": "https://localhost:8080/",
          "height": 304
        }
      },
      "source": [
        "pg.qqplot(dfFR['Streams']);"
      ],
      "execution_count": 0,
      "outputs": [
        {
          "output_type": "display_data",
          "data": {
            "image/png": "[encoded data removed]",
            "text/plain": [
              "<Figure size 360x288 with 1 Axes>"
            ]
          },
          "metadata": {
            "tags": []
          }
        }
      ]
    },
    {
      "cell_type": "code",
      "metadata": {
        "id": "yxywvASJTC7B",
        "colab_type": "code",
        "outputId": "0a6dd33b-c704-4bbc-af59-77d829032ab7",
        "colab": {
          "base_uri": "https://localhost:8080/",
          "height": 304
        }
      },
      "source": [
        "dfIT = df[df['Region']=='it']\n",
        "pg.qqplot(dfIT['Streams']);"
      ],
      "execution_count": 0,
      "outputs": [
        {
          "output_type": "display_data",
          "data": {
            "image/png": "[encoded data removed]",
            "text/plain": [
              "<Figure size 360x288 with 1 Axes>"
            ]
          },
          "metadata": {
            "tags": []
          }
        }
      ]
    },
    {
      "cell_type": "code",
      "metadata": {
        "id": "Em2vkLW1SHVV",
        "colab_type": "code",
        "outputId": "04678aaf-6ee2-428e-a73e-3644475cab09",
        "colab": {
          "base_uri": "https://localhost:8080/",
          "height": 304
        }
      },
      "source": [
        "dfDE = df[df['Region']=='de']\n",
        "pg.qqplot(dfDE['Streams']);"
      ],
      "execution_count": 0,
      "outputs": [
        {
          "output_type": "display_data",
          "data": {
            "image/png": "[encoded data removed]",
            "text/plain": [
              "<Figure size 360x288 with 1 Axes>"
            ]
          },
          "metadata": {
            "tags": []
          }
        }
      ]
    },
    {
      "cell_type": "markdown",
      "metadata": {
        "id": "CEUhntoeTiY-",
        "colab_type": "text"
      },
      "source": [
        "The assumptions of normality and homoscedasticity are not met. We proceed with the ANOVA nevertheless, but cannot trust the results too much."
      ]
    },
    {
      "cell_type": "code",
      "metadata": {
        "id": "7Cxu5Z6uTSto",
        "colab_type": "code",
        "outputId": "4cfa4dfd-8666-40b5-9bf8-b8a4074a75bb",
        "colab": {
          "base_uri": "https://localhost:8080/",
          "height": 77
        }
      },
      "source": [
        "df.anova(dv='Streams', between='Region')"
      ],
      "execution_count": 0,
      "outputs": [
        {
          "output_type": "execute_result",
          "data": {
            "text/html": [
              "<div>\n",
              "<style scoped>\n",
              "    .dataframe tbody tr th:only-of-type {\n",
              "        vertical-align: middle;\n",
              "    }\n",
              "\n",
              "    .dataframe tbody tr th {\n",
              "        vertical-align: top;\n",
              "    }\n",
              "\n",
              "    .dataframe thead th {\n",
              "        text-align: right;\n",
              "    }\n",
              "</style>\n",
              "<table border=\"1\" class=\"dataframe\">\n",
              "  <thead>\n",
              "    <tr style=\"text-align: right;\">\n",
              "      <th></th>\n",
              "      <th>Source</th>\n",
              "      <th>ddof1</th>\n",
              "      <th>ddof2</th>\n",
              "      <th>F</th>\n",
              "      <th>p-unc</th>\n",
              "      <th>np2</th>\n",
              "    </tr>\n",
              "  </thead>\n",
              "  <tbody>\n",
              "    <tr>\n",
              "      <th>0</th>\n",
              "      <td>Region</td>\n",
              "      <td>3</td>\n",
              "      <td>1480</td>\n",
              "      <td>743.712</td>\n",
              "      <td>8.621295e-295</td>\n",
              "      <td>0.601</td>\n",
              "    </tr>\n",
              "  </tbody>\n",
              "</table>\n",
              "</div>"
            ],
            "text/plain": [
              "   Source  ddof1  ddof2        F          p-unc    np2\n",
              "0  Region      3   1480  743.712  8.621295e-295  0.601"
            ]
          },
          "metadata": {
            "tags": []
          },
          "execution_count": 22
        }
      ]
    },
    {
      "cell_type": "markdown",
      "metadata": {
        "id": "_PjSYFIQT9BM",
        "colab_type": "text"
      },
      "source": [
        "Since the $p$-value is small, we reject the null hypothesis. At least one pair of means is different (we already knew it from Q7). We perform a post-hoc analysis to know which one."
      ]
    },
    {
      "cell_type": "code",
      "metadata": {
        "id": "0jTYHWLsT1Zh",
        "colab_type": "code",
        "outputId": "3e03f6ed-6688-4c3a-9fe3-274ff4a93332",
        "colab": {
          "base_uri": "https://localhost:8080/",
          "height": 226
        }
      },
      "source": [
        "pt=pg.pairwise_tukey(data=df, dv='Streams', between='Region')\n",
        "pt"
      ],
      "execution_count": 0,
      "outputs": [
        {
          "output_type": "execute_result",
          "data": {
            "text/html": [
              "<div>\n",
              "<style scoped>\n",
              "    .dataframe tbody tr th:only-of-type {\n",
              "        vertical-align: middle;\n",
              "    }\n",
              "\n",
              "    .dataframe tbody tr th {\n",
              "        vertical-align: top;\n",
              "    }\n",
              "\n",
              "    .dataframe thead th {\n",
              "        text-align: right;\n",
              "    }\n",
              "</style>\n",
              "<table border=\"1\" class=\"dataframe\">\n",
              "  <thead>\n",
              "    <tr style=\"text-align: right;\">\n",
              "      <th></th>\n",
              "      <th>A</th>\n",
              "      <th>B</th>\n",
              "      <th>mean(A)</th>\n",
              "      <th>mean(B)</th>\n",
              "      <th>diff</th>\n",
              "      <th>se</th>\n",
              "      <th>tail</th>\n",
              "      <th>T</th>\n",
              "      <th>p-tukey</th>\n",
              "      <th>hedges</th>\n",
              "    </tr>\n",
              "  </thead>\n",
              "  <tbody>\n",
              "    <tr>\n",
              "      <th>0</th>\n",
              "      <td>de</td>\n",
              "      <td>es</td>\n",
              "      <td>462780.499</td>\n",
              "      <td>326112.968</td>\n",
              "      <td>136667.531</td>\n",
              "      <td>6676.146</td>\n",
              "      <td>two-sided</td>\n",
              "      <td>20.471</td>\n",
              "      <td>0.001</td>\n",
              "      <td>1.502</td>\n",
              "    </tr>\n",
              "    <tr>\n",
              "      <th>1</th>\n",
              "      <td>de</td>\n",
              "      <td>fr</td>\n",
              "      <td>462780.499</td>\n",
              "      <td>216404.310</td>\n",
              "      <td>246376.189</td>\n",
              "      <td>6676.146</td>\n",
              "      <td>two-sided</td>\n",
              "      <td>36.904</td>\n",
              "      <td>0.001</td>\n",
              "      <td>2.707</td>\n",
              "    </tr>\n",
              "    <tr>\n",
              "      <th>2</th>\n",
              "      <td>de</td>\n",
              "      <td>it</td>\n",
              "      <td>462780.499</td>\n",
              "      <td>174890.418</td>\n",
              "      <td>287890.081</td>\n",
              "      <td>6676.146</td>\n",
              "      <td>two-sided</td>\n",
              "      <td>43.122</td>\n",
              "      <td>0.001</td>\n",
              "      <td>3.163</td>\n",
              "    </tr>\n",
              "    <tr>\n",
              "      <th>3</th>\n",
              "      <td>es</td>\n",
              "      <td>fr</td>\n",
              "      <td>326112.968</td>\n",
              "      <td>216404.310</td>\n",
              "      <td>109708.658</td>\n",
              "      <td>6676.146</td>\n",
              "      <td>two-sided</td>\n",
              "      <td>16.433</td>\n",
              "      <td>0.001</td>\n",
              "      <td>1.205</td>\n",
              "    </tr>\n",
              "    <tr>\n",
              "      <th>4</th>\n",
              "      <td>es</td>\n",
              "      <td>it</td>\n",
              "      <td>326112.968</td>\n",
              "      <td>174890.418</td>\n",
              "      <td>151222.550</td>\n",
              "      <td>6676.146</td>\n",
              "      <td>two-sided</td>\n",
              "      <td>22.651</td>\n",
              "      <td>0.001</td>\n",
              "      <td>1.661</td>\n",
              "    </tr>\n",
              "    <tr>\n",
              "      <th>5</th>\n",
              "      <td>fr</td>\n",
              "      <td>it</td>\n",
              "      <td>216404.310</td>\n",
              "      <td>174890.418</td>\n",
              "      <td>41513.892</td>\n",
              "      <td>6676.146</td>\n",
              "      <td>two-sided</td>\n",
              "      <td>6.218</td>\n",
              "      <td>0.001</td>\n",
              "      <td>0.456</td>\n",
              "    </tr>\n",
              "  </tbody>\n",
              "</table>\n",
              "</div>"
            ],
            "text/plain": [
              "    A   B     mean(A)     mean(B)  ...       tail       T p-tukey  hedges\n",
              "0  de  es  462780.499  326112.968  ...  two-sided  20.471   0.001   1.502\n",
              "1  de  fr  462780.499  216404.310  ...  two-sided  36.904   0.001   2.707\n",
              "2  de  it  462780.499  174890.418  ...  two-sided  43.122   0.001   3.163\n",
              "3  es  fr  326112.968  216404.310  ...  two-sided  16.433   0.001   1.205\n",
              "4  es  it  326112.968  174890.418  ...  two-sided  22.651   0.001   1.661\n",
              "5  fr  it  216404.310  174890.418  ...  two-sided   6.218   0.001   0.456\n",
              "\n",
              "[6 rows x 10 columns]"
            ]
          },
          "metadata": {
            "tags": []
          },
          "execution_count": 23
        }
      ]
    },
    {
      "cell_type": "markdown",
      "metadata": {
        "id": "cDkQKBKeUW5z",
        "colab_type": "text"
      },
      "source": [
        "The post-hoc analysis tells us that all the pairs of means are different. All the effect sizes are large, except for France-Italy (significant but small effect)."
      ]
    },
    {
      "cell_type": "markdown",
      "metadata": {
        "id": "DbKNMdIdrlYU",
        "colab_type": "text"
      },
      "source": [
        "#Q11. Hypothesis Testing\n",
        "\n",
        "Let us now assume that a song is labeled a \"hit\" if the artist is able to make a revenue of \\$2500 or more in a single day. (Assume Spotify pays the artists \\$0.006 per stream). Create a new column, taking a value of 1 for each \"hit\", and 0 otherwise. Next, determine whether there exists enough evidence to claim that the proportion of \"hits\" in Germany and Spain is different."
      ]
    },
    {
      "cell_type": "code",
      "metadata": {
        "id": "EE87SIlCmcoL",
        "colab_type": "code",
        "outputId": "d2b9b7a8-26a5-4448-c593-415f77e7193b",
        "colab": {
          "base_uri": "https://localhost:8080/",
          "height": 196
        }
      },
      "source": [
        "hitstreams=2500/0.006\n",
        "df['hit'] = np.where(df['Streams']>hitstreams, 1, 0)\n",
        "df.head()"
      ],
      "execution_count": 0,
      "outputs": [
        {
          "output_type": "execute_result",
          "data": {
            "text/html": [
              "<div>\n",
              "<style scoped>\n",
              "    .dataframe tbody tr th:only-of-type {\n",
              "        vertical-align: middle;\n",
              "    }\n",
              "\n",
              "    .dataframe tbody tr th {\n",
              "        vertical-align: top;\n",
              "    }\n",
              "\n",
              "    .dataframe thead th {\n",
              "        text-align: right;\n",
              "    }\n",
              "</style>\n",
              "<table border=\"1\" class=\"dataframe\">\n",
              "  <thead>\n",
              "    <tr style=\"text-align: right;\">\n",
              "      <th></th>\n",
              "      <th>Track Name</th>\n",
              "      <th>Artist</th>\n",
              "      <th>Streams</th>\n",
              "      <th>URL</th>\n",
              "      <th>Date</th>\n",
              "      <th>Region</th>\n",
              "      <th>hit</th>\n",
              "    </tr>\n",
              "  </thead>\n",
              "  <tbody>\n",
              "    <tr>\n",
              "      <th>0</th>\n",
              "      <td>One Dance</td>\n",
              "      <td>Drake</td>\n",
              "      <td>89403</td>\n",
              "      <td>https://open.spotify.com/track/1xznGGDReH1oQq0...</td>\n",
              "      <td>2017-01-01</td>\n",
              "      <td>fr</td>\n",
              "      <td>0</td>\n",
              "    </tr>\n",
              "    <tr>\n",
              "      <th>1</th>\n",
              "      <td>Mauvaise graine</td>\n",
              "      <td>Nekfeu</td>\n",
              "      <td>91971</td>\n",
              "      <td>https://open.spotify.com/track/4kKJ5CjwCtksszP...</td>\n",
              "      <td>2017-01-02</td>\n",
              "      <td>fr</td>\n",
              "      <td>0</td>\n",
              "    </tr>\n",
              "    <tr>\n",
              "      <th>2</th>\n",
              "      <td>Mauvaise graine</td>\n",
              "      <td>Nekfeu</td>\n",
              "      <td>94563</td>\n",
              "      <td>https://open.spotify.com/track/4kKJ5CjwCtksszP...</td>\n",
              "      <td>2017-01-03</td>\n",
              "      <td>fr</td>\n",
              "      <td>0</td>\n",
              "    </tr>\n",
              "    <tr>\n",
              "      <th>3</th>\n",
              "      <td>Mauvaise graine</td>\n",
              "      <td>Nekfeu</td>\n",
              "      <td>99606</td>\n",
              "      <td>https://open.spotify.com/track/4kKJ5CjwCtksszP...</td>\n",
              "      <td>2017-01-04</td>\n",
              "      <td>fr</td>\n",
              "      <td>0</td>\n",
              "    </tr>\n",
              "    <tr>\n",
              "      <th>4</th>\n",
              "      <td>Mauvaise graine</td>\n",
              "      <td>Nekfeu</td>\n",
              "      <td>96563</td>\n",
              "      <td>https://open.spotify.com/track/4kKJ5CjwCtksszP...</td>\n",
              "      <td>2017-01-05</td>\n",
              "      <td>fr</td>\n",
              "      <td>0</td>\n",
              "    </tr>\n",
              "  </tbody>\n",
              "</table>\n",
              "</div>"
            ],
            "text/plain": [
              "        Track Name  Artist  Streams  ...        Date Region hit\n",
              "0        One Dance   Drake    89403  ...  2017-01-01     fr   0\n",
              "1  Mauvaise graine  Nekfeu    91971  ...  2017-01-02     fr   0\n",
              "2  Mauvaise graine  Nekfeu    94563  ...  2017-01-03     fr   0\n",
              "3  Mauvaise graine  Nekfeu    99606  ...  2017-01-04     fr   0\n",
              "4  Mauvaise graine  Nekfeu    96563  ...  2017-01-05     fr   0\n",
              "\n",
              "[5 rows x 7 columns]"
            ]
          },
          "metadata": {
            "tags": []
          },
          "execution_count": 24
        }
      ]
    },
    {
      "cell_type": "code",
      "metadata": {
        "id": "l7UsMCANVABf",
        "colab_type": "code",
        "outputId": "07c03dd7-fdd6-4fb7-b9a2-6eea9ba5d1d8",
        "colab": {
          "base_uri": "https://localhost:8080/",
          "height": 196
        }
      },
      "source": [
        "#we run this code again to include the new variable\n",
        "dfDE = df[df['Region']=='de']\n",
        "dfDE.head()\n",
        "dfES = df[df['Region']=='es']\n",
        "dfDE.head()\n"
      ],
      "execution_count": 0,
      "outputs": [
        {
          "output_type": "execute_result",
          "data": {
            "text/html": [
              "<div>\n",
              "<style scoped>\n",
              "    .dataframe tbody tr th:only-of-type {\n",
              "        vertical-align: middle;\n",
              "    }\n",
              "\n",
              "    .dataframe tbody tr th {\n",
              "        vertical-align: top;\n",
              "    }\n",
              "\n",
              "    .dataframe thead th {\n",
              "        text-align: right;\n",
              "    }\n",
              "</style>\n",
              "<table border=\"1\" class=\"dataframe\">\n",
              "  <thead>\n",
              "    <tr style=\"text-align: right;\">\n",
              "      <th></th>\n",
              "      <th>Track Name</th>\n",
              "      <th>Artist</th>\n",
              "      <th>Streams</th>\n",
              "      <th>URL</th>\n",
              "      <th>Date</th>\n",
              "      <th>Region</th>\n",
              "      <th>hit</th>\n",
              "    </tr>\n",
              "  </thead>\n",
              "  <tbody>\n",
              "    <tr>\n",
              "      <th>742</th>\n",
              "      <td>Rockabye (feat. Sean Paul &amp; Anne-Marie)</td>\n",
              "      <td>Clean Bandit</td>\n",
              "      <td>229398</td>\n",
              "      <td>https://open.spotify.com/track/5knuzwU65gJK7IF...</td>\n",
              "      <td>2017-01-01</td>\n",
              "      <td>de</td>\n",
              "      <td>0</td>\n",
              "    </tr>\n",
              "    <tr>\n",
              "      <th>743</th>\n",
              "      <td>Rockabye (feat. Sean Paul &amp; Anne-Marie)</td>\n",
              "      <td>Clean Bandit</td>\n",
              "      <td>258441</td>\n",
              "      <td>https://open.spotify.com/track/5knuzwU65gJK7IF...</td>\n",
              "      <td>2017-01-02</td>\n",
              "      <td>de</td>\n",
              "      <td>0</td>\n",
              "    </tr>\n",
              "    <tr>\n",
              "      <th>744</th>\n",
              "      <td>Rockabye (feat. Sean Paul &amp; Anne-Marie)</td>\n",
              "      <td>Clean Bandit</td>\n",
              "      <td>251496</td>\n",
              "      <td>https://open.spotify.com/track/5knuzwU65gJK7IF...</td>\n",
              "      <td>2017-01-03</td>\n",
              "      <td>de</td>\n",
              "      <td>0</td>\n",
              "    </tr>\n",
              "    <tr>\n",
              "      <th>745</th>\n",
              "      <td>Rockabye (feat. Sean Paul &amp; Anne-Marie)</td>\n",
              "      <td>Clean Bandit</td>\n",
              "      <td>258747</td>\n",
              "      <td>https://open.spotify.com/track/5knuzwU65gJK7IF...</td>\n",
              "      <td>2017-01-04</td>\n",
              "      <td>de</td>\n",
              "      <td>0</td>\n",
              "    </tr>\n",
              "    <tr>\n",
              "      <th>746</th>\n",
              "      <td>Rockabye (feat. Sean Paul &amp; Anne-Marie)</td>\n",
              "      <td>Clean Bandit</td>\n",
              "      <td>260574</td>\n",
              "      <td>https://open.spotify.com/track/5knuzwU65gJK7IF...</td>\n",
              "      <td>2017-01-05</td>\n",
              "      <td>de</td>\n",
              "      <td>0</td>\n",
              "    </tr>\n",
              "  </tbody>\n",
              "</table>\n",
              "</div>"
            ],
            "text/plain": [
              "                                  Track Name        Artist  ...  Region hit\n",
              "742  Rockabye (feat. Sean Paul & Anne-Marie)  Clean Bandit  ...      de   0\n",
              "743  Rockabye (feat. Sean Paul & Anne-Marie)  Clean Bandit  ...      de   0\n",
              "744  Rockabye (feat. Sean Paul & Anne-Marie)  Clean Bandit  ...      de   0\n",
              "745  Rockabye (feat. Sean Paul & Anne-Marie)  Clean Bandit  ...      de   0\n",
              "746  Rockabye (feat. Sean Paul & Anne-Marie)  Clean Bandit  ...      de   0\n",
              "\n",
              "[5 rows x 7 columns]"
            ]
          },
          "metadata": {
            "tags": []
          },
          "execution_count": 26
        }
      ]
    },
    {
      "cell_type": "code",
      "metadata": {
        "id": "-LyC8VpSW9vx",
        "colab_type": "code",
        "outputId": "8bf80c4b-e720-4304-ff7d-975838a60510",
        "colab": {
          "base_uri": "https://localhost:8080/",
          "height": 67
        }
      },
      "source": [
        "alpha=0.05\n",
        "zStat, pVal=smp.proportions_ztest(count=(dfDE['hit'].sum(), dfES['hit'].sum()), nobs=(371, 371))\n",
        "\n",
        "print('z       \\t = {0:.3f}'.format(zStat))\n",
        "print('p-value \\t = {0:.3f}'.format(pVal))\n",
        "\n",
        "if pVal < alpha:\n",
        "  print(\"Reject H0: zStat = {0:5.3f}; p-value = {1:5.3f} vs alpha = {2}]\".format(zStat, pVal, alpha))\n",
        "else:\n",
        "  print(\"Fail to Reject H0: zStat = {0:5.3f}; p-value = {1:5.3f} vs alpha = {2}]\".format(zStat, pVal, alpha))\n"
      ],
      "execution_count": 0,
      "outputs": [
        {
          "output_type": "stream",
          "text": [
            "z       \t = 11.800\n",
            "p-value \t = 0.000\n",
            "Reject H0: zStat = 11.800; p-value = 0.000 vs alpha = 0.05]\n"
          ],
          "name": "stdout"
        }
      ]
    },
    {
      "cell_type": "markdown",
      "metadata": {
        "id": "to_W8keae7Vy",
        "colab_type": "text"
      },
      "source": [
        "#Q12. Probability Distributions\n",
        "\n",
        "Assume that the proportion of hits among Number 1 songs in Spain is consistently the same as what you observe in this sample. If we pick 6 songs randomly, what is the probability that at least 3 of them will be hits in Spain?"
      ]
    },
    {
      "cell_type": "code",
      "metadata": {
        "id": "A-Uf8wlOiXuh",
        "colab_type": "code",
        "outputId": "fb4960cb-ccf2-4e56-f3b1-d822147c458b",
        "colab": {
          "base_uri": "https://localhost:8080/",
          "height": 50
        }
      },
      "source": [
        "p=(dfES['hit'].sum()/dfES['hit'].count())\n",
        "p\n",
        "print(\"Probability of hit in Spain = {0:.3f}\".format(p))\n",
        "k = 2\n",
        "n = 6\n",
        "p3more = 1-ss.binom.cdf(k=k, n=n, p=p)\n",
        "print('p (k at least 3) = 1- p(k={0} or less) = {1:.3f}'.format(k, p3more))\n"
      ],
      "execution_count": 0,
      "outputs": [
        {
          "output_type": "stream",
          "text": [
            "Probability of hit in Spain = 0.159\n",
            "p (k at least 3) = 1- p(k=2 or less) = 0.055\n"
          ],
          "name": "stdout"
        }
      ]
    },
    {
      "cell_type": "markdown",
      "metadata": {
        "id": "Jk2id3wCEu5T",
        "colab_type": "text"
      },
      "source": [
        "# Q13. Probability Distributions\n",
        "\n",
        "The GPA of students at a certain university follows a normal distribution with mean = 7 and stdev = 1.2:\n",
        "1. What is the probability that a randomly selected student from that university has a GPA above 9?\n",
        "2. Verify your computation above empirically. Randomly generate GPA for 5000 students under a normal distribution $N(\\mu=7, \\sigma=1.2)$. Verify, with a plot, that your population follows a normal distribution. Next, compute the percentage of students with GPA above 9 in the simulated population. Compare the answers.\n",
        "3. What happens if we increase the population to 50000 students?"
      ]
    },
    {
      "cell_type": "code",
      "metadata": {
        "id": "cn0dzYq4rL5u",
        "colab_type": "code",
        "outputId": "d0b71849-8a39-49ae-ba9e-2ebb3f11c66d",
        "colab": {
          "base_uri": "https://localhost:8080/",
          "height": 50
        }
      },
      "source": [
        "# Question 1\n",
        "mu = 7\n",
        "sigma = 1.2\n",
        "\n",
        "x = 9\n",
        "z = (x-mu)/sigma\n",
        "prob = 1-ss.norm.cdf(z)\n",
        "print(\"z score of GPA = {0} is {1:.3f}\".format(x, z))\n",
        "print(\"p(z > {0:.3f}) = {1:.4f}\".format(z,prob))"
      ],
      "execution_count": 0,
      "outputs": [
        {
          "output_type": "stream",
          "text": [
            "z score of GPA = 9 is 1.667\n",
            "p(z > 1.667) = 0.0478\n"
          ],
          "name": "stdout"
        }
      ]
    },
    {
      "cell_type": "code",
      "metadata": {
        "id": "W7VyhKrYZRtv",
        "colab_type": "code",
        "outputId": "0aaa9c33-2f85-4bc0-b466-11812c36d823",
        "colab": {
          "base_uri": "https://localhost:8080/",
          "height": 305
        }
      },
      "source": [
        "# Question 2\n",
        "popSize = 5000\n",
        "# generate random population\n",
        "pop = ss.norm.rvs(loc=mu, scale=sigma, size= popSize)\n",
        "\n",
        "# plot the population\n",
        "plt.hist(pop, edgecolor=\"white\")\n",
        "\n",
        "# get students with GPA above threshold value\n",
        "nAbove9 = len(pop[pop>x])\n",
        "print(\"Nr. of students with GPA above {0} = {1}\".format(x,nAbove9))\n",
        "print(\"%   of students with GPA above {0} = {1:.4f}\".format(x, nAbove9/len(pop)))"
      ],
      "execution_count": 0,
      "outputs": [
        {
          "output_type": "stream",
          "text": [
            "Nr. of students with GPA above 9 = 246\n",
            "%   of students with GPA above 9 = 0.0492\n"
          ],
          "name": "stdout"
        },
        {
          "output_type": "display_data",
          "data": {
            "image/png": "[encoded data removed]",
            "text/plain": [
              "<Figure size 432x288 with 1 Axes>"
            ]
          },
          "metadata": {
            "tags": []
          }
        }
      ]
    },
    {
      "cell_type": "code",
      "metadata": {
        "id": "HuAB6QoGZUCt",
        "colab_type": "code",
        "outputId": "9ae6803e-8c29-4d30-fac7-fb9c0af3ba3a",
        "colab": {
          "base_uri": "https://localhost:8080/",
          "height": 305
        }
      },
      "source": [
        "# Question 3: We would expect the estimate to become more precise.\n",
        "popSize = 50000\n",
        "# generate random population\n",
        "pop = ss.norm.rvs(loc=mu, scale=sigma, size= popSize)\n",
        "\n",
        "# plot the population\n",
        "plt.hist(pop, edgecolor=\"white\")\n",
        "\n",
        "# get students with GPA above threshold value\n",
        "nAbove9 = len(pop[pop>x])\n",
        "print(\"Nr. of students with GPA above {0} = {1}\".format(x,nAbove9))\n",
        "print(\"%   of students with GPA above {0} = {1:.4f}\".format(x, nAbove9/len(pop)))"
      ],
      "execution_count": 0,
      "outputs": [
        {
          "output_type": "stream",
          "text": [
            "Nr. of students with GPA above 9 = 2331\n",
            "%   of students with GPA above 9 = 0.0466\n"
          ],
          "name": "stdout"
        },
        {
          "output_type": "display_data",
          "data": {
            "image/png": "[encoded data removed]",
            "text/plain": [
              "<Figure size 432x288 with 1 Axes>"
            ]
          },
          "metadata": {
            "tags": []
          }
        }
      ]
    }
  ]
}